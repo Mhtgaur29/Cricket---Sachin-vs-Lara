{
  "nbformat": 4,
  "nbformat_minor": 0,
  "metadata": {
    "colab": {
      "provenance": [],
      "collapsed_sections": [],
      "authorship_tag": "ABX9TyMuT6FClQIYrrd/YjrH3Uus",
      "include_colab_link": true
    },
    "kernelspec": {
      "name": "python3",
      "display_name": "Python 3"
    },
    "language_info": {
      "name": "python"
    }
  },
  "cells": [
    {
      "cell_type": "markdown",
      "metadata": {
        "id": "view-in-github",
        "colab_type": "text"
      },
      "source": [
        "<a href=\"https://colab.research.google.com/github/Mhtgaur29/Cricket---Sachin-vs-Lara/blob/main/Lara_vs_Sachin.ipynb\" target=\"_parent\"><img src=\"https://colab.research.google.com/assets/colab-badge.svg\" alt=\"Open In Colab\"/></a>"
      ]
    },
    {
      "cell_type": "code",
      "execution_count": null,
      "metadata": {
        "id": "_dINSAGTtbKX"
      },
      "outputs": [],
      "source": [
        "import warnings\n",
        "warnings.filterwarnings('ignore')\n",
        "\n",
        "import pandas as pd\n",
        "import numpy as np\n",
        "import matplotlib.pyplot as plt\n",
        "\n",
        "pd.set_option('display.max_rows', None)\n",
        "pd.set_option('display.max_columns', None)\n",
        "pd.set_option('display.expand_frame_repr', False)\n",
        "pd.set_option('max_colwidth', -1)"
      ]
    },
    {
      "cell_type": "code",
      "source": [
        "df = pd.read_csv('/content/ODI_data.csv')"
      ],
      "metadata": {
        "id": "AjA7_wiDtojX"
      },
      "execution_count": null,
      "outputs": []
    },
    {
      "cell_type": "code",
      "source": [
        "df.head(2)"
      ],
      "metadata": {
        "colab": {
          "base_uri": "https://localhost:8080/",
          "height": 262
        },
        "id": "7v9_Zdw5t98U",
        "outputId": "d015718e-2ccb-4ba6-b9ca-71c1bdc0a4a7"
      },
      "execution_count": null,
      "outputs": [
        {
          "output_type": "execute_result",
          "data": {
            "text/html": [
              "\n",
              "  <div id=\"df-929c48ae-6757-4137-894b-c676c9503f9f\">\n",
              "    <div class=\"colab-df-container\">\n",
              "      <div>\n",
              "<style scoped>\n",
              "    .dataframe tbody tr th:only-of-type {\n",
              "        vertical-align: middle;\n",
              "    }\n",
              "\n",
              "    .dataframe tbody tr th {\n",
              "        vertical-align: top;\n",
              "    }\n",
              "\n",
              "    .dataframe thead th {\n",
              "        text-align: right;\n",
              "    }\n",
              "</style>\n",
              "<table border=\"1\" class=\"dataframe\">\n",
              "  <thead>\n",
              "    <tr style=\"text-align: right;\">\n",
              "      <th></th>\n",
              "      <th>Innings Player</th>\n",
              "      <th>Innings Runs Scored</th>\n",
              "      <th>Innings Runs Scored Num</th>\n",
              "      <th>Innings Minutes Batted</th>\n",
              "      <th>Innings Batted Flag</th>\n",
              "      <th>Innings Not Out Flag</th>\n",
              "      <th>Innings Balls Faced</th>\n",
              "      <th>Innings Boundary Fours</th>\n",
              "      <th>Innings Boundary Sixes</th>\n",
              "      <th>Innings Batting Strike Rate</th>\n",
              "      <th>Innings Number</th>\n",
              "      <th>Opposition</th>\n",
              "      <th>Ground</th>\n",
              "      <th>Innings Date</th>\n",
              "      <th>Country</th>\n",
              "      <th>50's</th>\n",
              "      <th>100's</th>\n",
              "      <th>Innings Runs Scored Buckets</th>\n",
              "      <th>Innings Overs Bowled</th>\n",
              "      <th>Innings Bowled Flag</th>\n",
              "      <th>Innings Maidens Bowled</th>\n",
              "      <th>Innings Runs Conceded</th>\n",
              "      <th>Innings Wickets Taken</th>\n",
              "      <th>4 Wickets</th>\n",
              "      <th>5 Wickets</th>\n",
              "      <th>10 Wickets</th>\n",
              "      <th>Innings Wickets Taken Buckets</th>\n",
              "      <th>Innings Economy Rate</th>\n",
              "    </tr>\n",
              "  </thead>\n",
              "  <tbody>\n",
              "    <tr>\n",
              "      <th>0</th>\n",
              "      <td>E Lewis</td>\n",
              "      <td>65</td>\n",
              "      <td>65</td>\n",
              "      <td>128</td>\n",
              "      <td>1.0</td>\n",
              "      <td>0.0</td>\n",
              "      <td>80</td>\n",
              "      <td>8</td>\n",
              "      <td>1</td>\n",
              "      <td>81.25</td>\n",
              "      <td>2</td>\n",
              "      <td>v India</td>\n",
              "      <td>Port of Spain</td>\n",
              "      <td>11-08-2019</td>\n",
              "      <td>West Indies</td>\n",
              "      <td>1.0</td>\n",
              "      <td>0.0</td>\n",
              "      <td>50-99</td>\n",
              "      <td>NaN</td>\n",
              "      <td>NaN</td>\n",
              "      <td>NaN</td>\n",
              "      <td>NaN</td>\n",
              "      <td>NaN</td>\n",
              "      <td>NaN</td>\n",
              "      <td>NaN</td>\n",
              "      <td>NaN</td>\n",
              "      <td>NaN</td>\n",
              "      <td>NaN</td>\n",
              "    </tr>\n",
              "    <tr>\n",
              "      <th>1</th>\n",
              "      <td>N Pooran</td>\n",
              "      <td>42</td>\n",
              "      <td>42</td>\n",
              "      <td>69</td>\n",
              "      <td>1.0</td>\n",
              "      <td>0.0</td>\n",
              "      <td>52</td>\n",
              "      <td>4</td>\n",
              "      <td>1</td>\n",
              "      <td>80.76</td>\n",
              "      <td>2</td>\n",
              "      <td>v India</td>\n",
              "      <td>Port of Spain</td>\n",
              "      <td>11-08-2019</td>\n",
              "      <td>West Indies</td>\n",
              "      <td>0.0</td>\n",
              "      <td>0.0</td>\n",
              "      <td>0-49</td>\n",
              "      <td>NaN</td>\n",
              "      <td>NaN</td>\n",
              "      <td>NaN</td>\n",
              "      <td>NaN</td>\n",
              "      <td>NaN</td>\n",
              "      <td>NaN</td>\n",
              "      <td>NaN</td>\n",
              "      <td>NaN</td>\n",
              "      <td>NaN</td>\n",
              "      <td>NaN</td>\n",
              "    </tr>\n",
              "  </tbody>\n",
              "</table>\n",
              "</div>\n",
              "      <button class=\"colab-df-convert\" onclick=\"convertToInteractive('df-929c48ae-6757-4137-894b-c676c9503f9f')\"\n",
              "              title=\"Convert this dataframe to an interactive table.\"\n",
              "              style=\"display:none;\">\n",
              "        \n",
              "  <svg xmlns=\"http://www.w3.org/2000/svg\" height=\"24px\"viewBox=\"0 0 24 24\"\n",
              "       width=\"24px\">\n",
              "    <path d=\"M0 0h24v24H0V0z\" fill=\"none\"/>\n",
              "    <path d=\"M18.56 5.44l.94 2.06.94-2.06 2.06-.94-2.06-.94-.94-2.06-.94 2.06-2.06.94zm-11 1L8.5 8.5l.94-2.06 2.06-.94-2.06-.94L8.5 2.5l-.94 2.06-2.06.94zm10 10l.94 2.06.94-2.06 2.06-.94-2.06-.94-.94-2.06-.94 2.06-2.06.94z\"/><path d=\"M17.41 7.96l-1.37-1.37c-.4-.4-.92-.59-1.43-.59-.52 0-1.04.2-1.43.59L10.3 9.45l-7.72 7.72c-.78.78-.78 2.05 0 2.83L4 21.41c.39.39.9.59 1.41.59.51 0 1.02-.2 1.41-.59l7.78-7.78 2.81-2.81c.8-.78.8-2.07 0-2.86zM5.41 20L4 18.59l7.72-7.72 1.47 1.35L5.41 20z\"/>\n",
              "  </svg>\n",
              "      </button>\n",
              "      \n",
              "  <style>\n",
              "    .colab-df-container {\n",
              "      display:flex;\n",
              "      flex-wrap:wrap;\n",
              "      gap: 12px;\n",
              "    }\n",
              "\n",
              "    .colab-df-convert {\n",
              "      background-color: #E8F0FE;\n",
              "      border: none;\n",
              "      border-radius: 50%;\n",
              "      cursor: pointer;\n",
              "      display: none;\n",
              "      fill: #1967D2;\n",
              "      height: 32px;\n",
              "      padding: 0 0 0 0;\n",
              "      width: 32px;\n",
              "    }\n",
              "\n",
              "    .colab-df-convert:hover {\n",
              "      background-color: #E2EBFA;\n",
              "      box-shadow: 0px 1px 2px rgba(60, 64, 67, 0.3), 0px 1px 3px 1px rgba(60, 64, 67, 0.15);\n",
              "      fill: #174EA6;\n",
              "    }\n",
              "\n",
              "    [theme=dark] .colab-df-convert {\n",
              "      background-color: #3B4455;\n",
              "      fill: #D2E3FC;\n",
              "    }\n",
              "\n",
              "    [theme=dark] .colab-df-convert:hover {\n",
              "      background-color: #434B5C;\n",
              "      box-shadow: 0px 1px 3px 1px rgba(0, 0, 0, 0.15);\n",
              "      filter: drop-shadow(0px 1px 2px rgba(0, 0, 0, 0.3));\n",
              "      fill: #FFFFFF;\n",
              "    }\n",
              "  </style>\n",
              "\n",
              "      <script>\n",
              "        const buttonEl =\n",
              "          document.querySelector('#df-929c48ae-6757-4137-894b-c676c9503f9f button.colab-df-convert');\n",
              "        buttonEl.style.display =\n",
              "          google.colab.kernel.accessAllowed ? 'block' : 'none';\n",
              "\n",
              "        async function convertToInteractive(key) {\n",
              "          const element = document.querySelector('#df-929c48ae-6757-4137-894b-c676c9503f9f');\n",
              "          const dataTable =\n",
              "            await google.colab.kernel.invokeFunction('convertToInteractive',\n",
              "                                                     [key], {});\n",
              "          if (!dataTable) return;\n",
              "\n",
              "          const docLinkHtml = 'Like what you see? Visit the ' +\n",
              "            '<a target=\"_blank\" href=https://colab.research.google.com/notebooks/data_table.ipynb>data table notebook</a>'\n",
              "            + ' to learn more about interactive tables.';\n",
              "          element.innerHTML = '';\n",
              "          dataTable['output_type'] = 'display_data';\n",
              "          await google.colab.output.renderOutput(dataTable, element);\n",
              "          const docLink = document.createElement('div');\n",
              "          docLink.innerHTML = docLinkHtml;\n",
              "          element.appendChild(docLink);\n",
              "        }\n",
              "      </script>\n",
              "    </div>\n",
              "  </div>\n",
              "  "
            ],
            "text/plain": [
              "  Innings Player Innings Runs Scored Innings Runs Scored Num Innings Minutes Batted  Innings Batted Flag  Innings Not Out Flag Innings Balls Faced Innings Boundary Fours Innings Boundary Sixes Innings Batting Strike Rate Innings Number Opposition         Ground Innings Date      Country  50's  100's Innings Runs Scored Buckets Innings Overs Bowled  Innings Bowled Flag Innings Maidens Bowled Innings Runs Conceded Innings Wickets Taken  4 Wickets  5 Wickets  10 Wickets Innings Wickets Taken Buckets Innings Economy Rate\n",
              "0  E Lewis        65                  65                      128                    1.0                  0.0                   80                  8                      1                      81.25                       2              v India    Port of Spain  11-08-2019   West Indies  1.0   0.0    50-99                       NaN                 NaN                   NaN                    NaN                   NaN                  NaN        NaN        NaN          NaN                           NaN                \n",
              "1  N Pooran       42                  42                      69                     1.0                  0.0                   52                  4                      1                      80.76                       2              v India    Port of Spain  11-08-2019   West Indies  0.0   0.0    0-49                        NaN                 NaN                   NaN                    NaN                   NaN                  NaN        NaN        NaN          NaN                           NaN                "
            ]
          },
          "metadata": {},
          "execution_count": 3
        }
      ]
    },
    {
      "cell_type": "code",
      "source": [
        "df['Innings Runs Scored Num'].unique()"
      ],
      "metadata": {
        "colab": {
          "base_uri": "https://localhost:8080/"
        },
        "id": "gyjR-N_i7Kg6",
        "outputId": "39274d7f-7a4e-4a9d-fb20-9d6a0316fa3e"
      },
      "execution_count": null,
      "outputs": [
        {
          "output_type": "execute_result",
          "data": {
            "text/plain": [
              "array(['65', '42', '18', '17', '13', '11', '5', '0', '120', '71', '20',\n",
              "       '16', '3', '2', '1', '-', nan, '40', '6', '4', '87', '54', '46',\n",
              "       '30', '12', '69', '39', '14', '10', '9', '8', '7', '82', '52',\n",
              "       '41', '15', '98', '43', '19', '111', '48', '36', '25', '67', '60',\n",
              "       '84', '59', '55', '47', '85', '49', '45', '34', '29', '22', '74',\n",
              "       '28', '77', '50', '32', '23', '35', '122', '100', '95', '103',\n",
              "       '113', '53', '96', '27', '64', '58', '33', '31', '73', '56', '86',\n",
              "       '62', '106', '24', '57', '104', '26', '66', '51', '118', '105',\n",
              "       '101', '21', '79', '44', '102', '88', '80', '72', '97', '68', '89',\n",
              "       '38', '83', '63', '148', '166', '90', '76', '37', '70', '124',\n",
              "       '94', '140', '153', '107', '117', '121', '92', '78', '75', '114',\n",
              "       '115', '130', '128', '151', '110', '138', '135', '109', '61',\n",
              "       '179', '170', '112', '116', '91', '143', '93', '123', '145', '81',\n",
              "       '150', '162', '108', '131', '133', '137', '146', '139', '125',\n",
              "       '129', '157', '152', '144', '99', '127', '210', '147', '126',\n",
              "       '181', '160', '180', '208', '176', '168', '141', '132', '119',\n",
              "       '154', '185', '134', '156', '164', '173', '178', '171', '149',\n",
              "       '237', '159', '161', '215', '264', '136', '169', '209', '174',\n",
              "       '189', '183', '163', '219', '158', '175', '177', '200', '194',\n",
              "       '142', '172'], dtype=object)"
            ]
          },
          "metadata": {},
          "execution_count": 4
        }
      ]
    },
    {
      "cell_type": "code",
      "source": [
        "df = df[df['Innings Runs Scored Num'] != '-']"
      ],
      "metadata": {
        "id": "daLJ4B3J7pp3"
      },
      "execution_count": null,
      "outputs": []
    },
    {
      "cell_type": "code",
      "source": [
        "df['Innings Runs Scored Num'].unique()"
      ],
      "metadata": {
        "colab": {
          "base_uri": "https://localhost:8080/"
        },
        "id": "OWjUsSAR7x35",
        "outputId": "72dcf5af-b226-4713-906c-a41d2983ae5d"
      },
      "execution_count": null,
      "outputs": [
        {
          "output_type": "execute_result",
          "data": {
            "text/plain": [
              "array(['65', '42', '18', '17', '13', '11', '5', '0', '120', '71', '20',\n",
              "       '16', '3', '2', '1', nan, '40', '6', '4', '87', '54', '46', '30',\n",
              "       '12', '69', '39', '14', '10', '9', '8', '7', '82', '52', '41',\n",
              "       '15', '98', '43', '19', '111', '48', '36', '25', '67', '60', '84',\n",
              "       '59', '55', '47', '85', '49', '45', '34', '29', '22', '74', '28',\n",
              "       '77', '50', '32', '23', '35', '122', '100', '95', '103', '113',\n",
              "       '53', '96', '27', '64', '58', '33', '31', '73', '56', '86', '62',\n",
              "       '106', '24', '57', '104', '26', '66', '51', '118', '105', '101',\n",
              "       '21', '79', '44', '102', '88', '80', '72', '97', '68', '89', '38',\n",
              "       '83', '63', '148', '166', '90', '76', '37', '70', '124', '94',\n",
              "       '140', '153', '107', '117', '121', '92', '78', '75', '114', '115',\n",
              "       '130', '128', '151', '110', '138', '135', '109', '61', '179',\n",
              "       '170', '112', '116', '91', '143', '93', '123', '145', '81', '150',\n",
              "       '162', '108', '131', '133', '137', '146', '139', '125', '129',\n",
              "       '157', '152', '144', '99', '127', '210', '147', '126', '181',\n",
              "       '160', '180', '208', '176', '168', '141', '132', '119', '154',\n",
              "       '185', '134', '156', '164', '173', '178', '171', '149', '237',\n",
              "       '159', '161', '215', '264', '136', '169', '209', '174', '189',\n",
              "       '183', '163', '219', '158', '175', '177', '200', '194', '142',\n",
              "       '172'], dtype=object)"
            ]
          },
          "metadata": {},
          "execution_count": 6
        }
      ]
    },
    {
      "cell_type": "code",
      "source": [
        "df = df.dropna(subset=['Innings Runs Scored Num'])"
      ],
      "metadata": {
        "id": "jr3yW4pQ71Ce"
      },
      "execution_count": null,
      "outputs": []
    },
    {
      "cell_type": "code",
      "source": [
        "df['Innings Runs Scored Num'].unique()"
      ],
      "metadata": {
        "colab": {
          "base_uri": "https://localhost:8080/"
        },
        "id": "_0MT7_4c8CPC",
        "outputId": "4c69d9e1-d848-40b9-fc74-30e4ab63b675"
      },
      "execution_count": null,
      "outputs": [
        {
          "output_type": "execute_result",
          "data": {
            "text/plain": [
              "array(['65', '42', '18', '17', '13', '11', '5', '0', '120', '71', '20',\n",
              "       '16', '3', '2', '1', '40', '6', '4', '87', '54', '46', '30', '12',\n",
              "       '69', '39', '14', '10', '9', '8', '7', '82', '52', '41', '15',\n",
              "       '98', '43', '19', '111', '48', '36', '25', '67', '60', '84', '59',\n",
              "       '55', '47', '85', '49', '45', '34', '29', '22', '74', '28', '77',\n",
              "       '50', '32', '23', '35', '122', '100', '95', '103', '113', '53',\n",
              "       '96', '27', '64', '58', '33', '31', '73', '56', '86', '62', '106',\n",
              "       '24', '57', '104', '26', '66', '51', '118', '105', '101', '21',\n",
              "       '79', '44', '102', '88', '80', '72', '97', '68', '89', '38', '83',\n",
              "       '63', '148', '166', '90', '76', '37', '70', '124', '94', '140',\n",
              "       '153', '107', '117', '121', '92', '78', '75', '114', '115', '130',\n",
              "       '128', '151', '110', '138', '135', '109', '61', '179', '170',\n",
              "       '112', '116', '91', '143', '93', '123', '145', '81', '150', '162',\n",
              "       '108', '131', '133', '137', '146', '139', '125', '129', '157',\n",
              "       '152', '144', '99', '127', '210', '147', '126', '181', '160',\n",
              "       '180', '208', '176', '168', '141', '132', '119', '154', '185',\n",
              "       '134', '156', '164', '173', '178', '171', '149', '237', '159',\n",
              "       '161', '215', '264', '136', '169', '209', '174', '189', '183',\n",
              "       '163', '219', '158', '175', '177', '200', '194', '142', '172'],\n",
              "      dtype=object)"
            ]
          },
          "metadata": {},
          "execution_count": 8
        }
      ]
    },
    {
      "cell_type": "code",
      "source": [
        "df['Innings Date'] = pd.to_datetime(df['Innings Date'])"
      ],
      "metadata": {
        "id": "MCGIsXN78HJo"
      },
      "execution_count": null,
      "outputs": []
    },
    {
      "cell_type": "code",
      "source": [
        "df['year'] = df['Innings Date'].dt.year"
      ],
      "metadata": {
        "id": "Yh3h0skg8s7l"
      },
      "execution_count": null,
      "outputs": []
    },
    {
      "cell_type": "code",
      "source": [
        "df.head(2)"
      ],
      "metadata": {
        "colab": {
          "base_uri": "https://localhost:8080/",
          "height": 262
        },
        "id": "I_VKE0GR9FBI",
        "outputId": "64a37ca3-4ca6-4191-ee9a-9a3c1a88c00f"
      },
      "execution_count": null,
      "outputs": [
        {
          "output_type": "execute_result",
          "data": {
            "text/html": [
              "\n",
              "  <div id=\"df-8131735b-7b45-4492-af61-9b9659e03fc6\">\n",
              "    <div class=\"colab-df-container\">\n",
              "      <div>\n",
              "<style scoped>\n",
              "    .dataframe tbody tr th:only-of-type {\n",
              "        vertical-align: middle;\n",
              "    }\n",
              "\n",
              "    .dataframe tbody tr th {\n",
              "        vertical-align: top;\n",
              "    }\n",
              "\n",
              "    .dataframe thead th {\n",
              "        text-align: right;\n",
              "    }\n",
              "</style>\n",
              "<table border=\"1\" class=\"dataframe\">\n",
              "  <thead>\n",
              "    <tr style=\"text-align: right;\">\n",
              "      <th></th>\n",
              "      <th>Innings Player</th>\n",
              "      <th>Innings Runs Scored</th>\n",
              "      <th>Innings Runs Scored Num</th>\n",
              "      <th>Innings Minutes Batted</th>\n",
              "      <th>Innings Batted Flag</th>\n",
              "      <th>Innings Not Out Flag</th>\n",
              "      <th>Innings Balls Faced</th>\n",
              "      <th>Innings Boundary Fours</th>\n",
              "      <th>Innings Boundary Sixes</th>\n",
              "      <th>Innings Batting Strike Rate</th>\n",
              "      <th>Innings Number</th>\n",
              "      <th>Opposition</th>\n",
              "      <th>Ground</th>\n",
              "      <th>Innings Date</th>\n",
              "      <th>Country</th>\n",
              "      <th>50's</th>\n",
              "      <th>100's</th>\n",
              "      <th>Innings Runs Scored Buckets</th>\n",
              "      <th>Innings Overs Bowled</th>\n",
              "      <th>Innings Bowled Flag</th>\n",
              "      <th>Innings Maidens Bowled</th>\n",
              "      <th>Innings Runs Conceded</th>\n",
              "      <th>Innings Wickets Taken</th>\n",
              "      <th>4 Wickets</th>\n",
              "      <th>5 Wickets</th>\n",
              "      <th>10 Wickets</th>\n",
              "      <th>Innings Wickets Taken Buckets</th>\n",
              "      <th>Innings Economy Rate</th>\n",
              "      <th>year</th>\n",
              "    </tr>\n",
              "  </thead>\n",
              "  <tbody>\n",
              "    <tr>\n",
              "      <th>0</th>\n",
              "      <td>E Lewis</td>\n",
              "      <td>65</td>\n",
              "      <td>65</td>\n",
              "      <td>128</td>\n",
              "      <td>1.0</td>\n",
              "      <td>0.0</td>\n",
              "      <td>80</td>\n",
              "      <td>8</td>\n",
              "      <td>1</td>\n",
              "      <td>81.25</td>\n",
              "      <td>2</td>\n",
              "      <td>v India</td>\n",
              "      <td>Port of Spain</td>\n",
              "      <td>2019-11-08</td>\n",
              "      <td>West Indies</td>\n",
              "      <td>1.0</td>\n",
              "      <td>0.0</td>\n",
              "      <td>50-99</td>\n",
              "      <td>NaN</td>\n",
              "      <td>NaN</td>\n",
              "      <td>NaN</td>\n",
              "      <td>NaN</td>\n",
              "      <td>NaN</td>\n",
              "      <td>NaN</td>\n",
              "      <td>NaN</td>\n",
              "      <td>NaN</td>\n",
              "      <td>NaN</td>\n",
              "      <td>NaN</td>\n",
              "      <td>2019</td>\n",
              "    </tr>\n",
              "    <tr>\n",
              "      <th>1</th>\n",
              "      <td>N Pooran</td>\n",
              "      <td>42</td>\n",
              "      <td>42</td>\n",
              "      <td>69</td>\n",
              "      <td>1.0</td>\n",
              "      <td>0.0</td>\n",
              "      <td>52</td>\n",
              "      <td>4</td>\n",
              "      <td>1</td>\n",
              "      <td>80.76</td>\n",
              "      <td>2</td>\n",
              "      <td>v India</td>\n",
              "      <td>Port of Spain</td>\n",
              "      <td>2019-11-08</td>\n",
              "      <td>West Indies</td>\n",
              "      <td>0.0</td>\n",
              "      <td>0.0</td>\n",
              "      <td>0-49</td>\n",
              "      <td>NaN</td>\n",
              "      <td>NaN</td>\n",
              "      <td>NaN</td>\n",
              "      <td>NaN</td>\n",
              "      <td>NaN</td>\n",
              "      <td>NaN</td>\n",
              "      <td>NaN</td>\n",
              "      <td>NaN</td>\n",
              "      <td>NaN</td>\n",
              "      <td>NaN</td>\n",
              "      <td>2019</td>\n",
              "    </tr>\n",
              "  </tbody>\n",
              "</table>\n",
              "</div>\n",
              "      <button class=\"colab-df-convert\" onclick=\"convertToInteractive('df-8131735b-7b45-4492-af61-9b9659e03fc6')\"\n",
              "              title=\"Convert this dataframe to an interactive table.\"\n",
              "              style=\"display:none;\">\n",
              "        \n",
              "  <svg xmlns=\"http://www.w3.org/2000/svg\" height=\"24px\"viewBox=\"0 0 24 24\"\n",
              "       width=\"24px\">\n",
              "    <path d=\"M0 0h24v24H0V0z\" fill=\"none\"/>\n",
              "    <path d=\"M18.56 5.44l.94 2.06.94-2.06 2.06-.94-2.06-.94-.94-2.06-.94 2.06-2.06.94zm-11 1L8.5 8.5l.94-2.06 2.06-.94-2.06-.94L8.5 2.5l-.94 2.06-2.06.94zm10 10l.94 2.06.94-2.06 2.06-.94-2.06-.94-.94-2.06-.94 2.06-2.06.94z\"/><path d=\"M17.41 7.96l-1.37-1.37c-.4-.4-.92-.59-1.43-.59-.52 0-1.04.2-1.43.59L10.3 9.45l-7.72 7.72c-.78.78-.78 2.05 0 2.83L4 21.41c.39.39.9.59 1.41.59.51 0 1.02-.2 1.41-.59l7.78-7.78 2.81-2.81c.8-.78.8-2.07 0-2.86zM5.41 20L4 18.59l7.72-7.72 1.47 1.35L5.41 20z\"/>\n",
              "  </svg>\n",
              "      </button>\n",
              "      \n",
              "  <style>\n",
              "    .colab-df-container {\n",
              "      display:flex;\n",
              "      flex-wrap:wrap;\n",
              "      gap: 12px;\n",
              "    }\n",
              "\n",
              "    .colab-df-convert {\n",
              "      background-color: #E8F0FE;\n",
              "      border: none;\n",
              "      border-radius: 50%;\n",
              "      cursor: pointer;\n",
              "      display: none;\n",
              "      fill: #1967D2;\n",
              "      height: 32px;\n",
              "      padding: 0 0 0 0;\n",
              "      width: 32px;\n",
              "    }\n",
              "\n",
              "    .colab-df-convert:hover {\n",
              "      background-color: #E2EBFA;\n",
              "      box-shadow: 0px 1px 2px rgba(60, 64, 67, 0.3), 0px 1px 3px 1px rgba(60, 64, 67, 0.15);\n",
              "      fill: #174EA6;\n",
              "    }\n",
              "\n",
              "    [theme=dark] .colab-df-convert {\n",
              "      background-color: #3B4455;\n",
              "      fill: #D2E3FC;\n",
              "    }\n",
              "\n",
              "    [theme=dark] .colab-df-convert:hover {\n",
              "      background-color: #434B5C;\n",
              "      box-shadow: 0px 1px 3px 1px rgba(0, 0, 0, 0.15);\n",
              "      filter: drop-shadow(0px 1px 2px rgba(0, 0, 0, 0.3));\n",
              "      fill: #FFFFFF;\n",
              "    }\n",
              "  </style>\n",
              "\n",
              "      <script>\n",
              "        const buttonEl =\n",
              "          document.querySelector('#df-8131735b-7b45-4492-af61-9b9659e03fc6 button.colab-df-convert');\n",
              "        buttonEl.style.display =\n",
              "          google.colab.kernel.accessAllowed ? 'block' : 'none';\n",
              "\n",
              "        async function convertToInteractive(key) {\n",
              "          const element = document.querySelector('#df-8131735b-7b45-4492-af61-9b9659e03fc6');\n",
              "          const dataTable =\n",
              "            await google.colab.kernel.invokeFunction('convertToInteractive',\n",
              "                                                     [key], {});\n",
              "          if (!dataTable) return;\n",
              "\n",
              "          const docLinkHtml = 'Like what you see? Visit the ' +\n",
              "            '<a target=\"_blank\" href=https://colab.research.google.com/notebooks/data_table.ipynb>data table notebook</a>'\n",
              "            + ' to learn more about interactive tables.';\n",
              "          element.innerHTML = '';\n",
              "          dataTable['output_type'] = 'display_data';\n",
              "          await google.colab.output.renderOutput(dataTable, element);\n",
              "          const docLink = document.createElement('div');\n",
              "          docLink.innerHTML = docLinkHtml;\n",
              "          element.appendChild(docLink);\n",
              "        }\n",
              "      </script>\n",
              "    </div>\n",
              "  </div>\n",
              "  "
            ],
            "text/plain": [
              "  Innings Player Innings Runs Scored Innings Runs Scored Num Innings Minutes Batted  Innings Batted Flag  Innings Not Out Flag Innings Balls Faced Innings Boundary Fours Innings Boundary Sixes Innings Batting Strike Rate Innings Number Opposition         Ground Innings Date      Country  50's  100's Innings Runs Scored Buckets Innings Overs Bowled  Innings Bowled Flag Innings Maidens Bowled Innings Runs Conceded Innings Wickets Taken  4 Wickets  5 Wickets  10 Wickets Innings Wickets Taken Buckets Innings Economy Rate  year\n",
              "0  E Lewis        65                  65                      128                    1.0                  0.0                   80                  8                      1                      81.25                       2              v India    Port of Spain 2019-11-08    West Indies  1.0   0.0    50-99                       NaN                 NaN                   NaN                    NaN                   NaN                  NaN        NaN        NaN          NaN                           NaN                  2019\n",
              "1  N Pooran       42                  42                      69                     1.0                  0.0                   52                  4                      1                      80.76                       2              v India    Port of Spain 2019-11-08    West Indies  0.0   0.0    0-49                        NaN                 NaN                   NaN                    NaN                   NaN                  NaN        NaN        NaN          NaN                           NaN                  2019"
            ]
          },
          "metadata": {},
          "execution_count": 11
        }
      ]
    },
    {
      "cell_type": "code",
      "source": [
        "df['Innings Runs Scored Num'] = df['Innings Runs Scored Num'].astype('int')"
      ],
      "metadata": {
        "id": "5xQmquykAuCR"
      },
      "execution_count": null,
      "outputs": []
    },
    {
      "cell_type": "code",
      "source": [
        "df['Innings Balls Faced'] = df['Innings Balls Faced'].astype('int')"
      ],
      "metadata": {
        "id": "0FLneyK_GNmE"
      },
      "execution_count": null,
      "outputs": []
    },
    {
      "cell_type": "code",
      "source": [
        "df['Innings Not Out Flag'] = df['Innings Not Out Flag'].astype('int')"
      ],
      "metadata": {
        "id": "h3CrwDtmGdCx"
      },
      "execution_count": null,
      "outputs": []
    },
    {
      "cell_type": "code",
      "source": [
        "sachin_df = df[(df.year>=1993) & (df.year<=2004)]\n",
        "lara_df = df[(df.year>=1993) & (df.year<=2004)]"
      ],
      "metadata": {
        "id": "aHFo8oxx9WR9"
      },
      "execution_count": null,
      "outputs": []
    },
    {
      "cell_type": "code",
      "source": [
        "sdf = sachin_df[sachin_df['Innings Player'] == 'SR Tendulkar']"
      ],
      "metadata": {
        "id": "LOyb73Q3IqGY"
      },
      "execution_count": null,
      "outputs": []
    },
    {
      "cell_type": "code",
      "source": [
        "ldf = lara_df[lara_df['Innings Player'] == 'BC Lara']"
      ],
      "metadata": {
        "id": "Z32lQ0I3I0r4"
      },
      "execution_count": null,
      "outputs": []
    },
    {
      "cell_type": "code",
      "source": [
        "# total runs by sachin\n",
        "sum(sdf['Innings Runs Scored Num'])"
      ],
      "metadata": {
        "colab": {
          "base_uri": "https://localhost:8080/"
        },
        "id": "ixhlFX0DMqXk",
        "outputId": "503bbc81-ca52-41b4-c5ea-548169ef1702"
      },
      "execution_count": null,
      "outputs": [
        {
          "output_type": "execute_result",
          "data": {
            "text/plain": [
              "1863"
            ]
          },
          "metadata": {},
          "execution_count": 18
        }
      ]
    },
    {
      "cell_type": "code",
      "source": [
        "# total runs by lara\n",
        "sum(ldf['Innings Runs Scored Num'])"
      ],
      "metadata": {
        "colab": {
          "base_uri": "https://localhost:8080/"
        },
        "id": "NUn_EXdrMzsN",
        "outputId": "afd6c77b-b52b-495c-f16c-c0805629b35a"
      },
      "execution_count": null,
      "outputs": [
        {
          "output_type": "execute_result",
          "data": {
            "text/plain": [
              "1254"
            ]
          },
          "metadata": {},
          "execution_count": 19
        }
      ]
    },
    {
      "cell_type": "code",
      "source": [
        "# RPI of sachin\n",
        "# len of sdf and ldf\n",
        "len(sdf),len(ldf)"
      ],
      "metadata": {
        "colab": {
          "base_uri": "https://localhost:8080/"
        },
        "id": "qNHkw0JZM_J-",
        "outputId": "b78e741c-0a5c-4f5a-b42a-c934114e5211"
      },
      "execution_count": null,
      "outputs": [
        {
          "output_type": "execute_result",
          "data": {
            "text/plain": [
              "(37, 37)"
            ]
          },
          "metadata": {},
          "execution_count": 20
        }
      ]
    },
    {
      "cell_type": "code",
      "source": [
        "# so now RPI for both\n",
        "sum(sdf['Innings Runs Scored Num'])/len(sdf),sum(ldf['Innings Runs Scored Num'])/len(ldf)"
      ],
      "metadata": {
        "colab": {
          "base_uri": "https://localhost:8080/"
        },
        "id": "mEyVD5mrNYcs",
        "outputId": "fb86707b-0ed2-46a2-f0f6-e2b2bab0ff91"
      },
      "execution_count": null,
      "outputs": [
        {
          "output_type": "execute_result",
          "data": {
            "text/plain": [
              "(50.351351351351354, 33.891891891891895)"
            ]
          },
          "metadata": {},
          "execution_count": 21
        }
      ]
    },
    {
      "cell_type": "code",
      "source": [
        "# strike rate of both the players\n",
        "100*sum(sdf['Innings Runs Scored Num'])/sum(sdf['Innings Balls Faced']),100*sum(ldf['Innings Runs Scored Num'])/sum(ldf['Innings Balls Faced'])"
      ],
      "metadata": {
        "colab": {
          "base_uri": "https://localhost:8080/"
        },
        "id": "ooPv_MGINmQn",
        "outputId": "4faafb15-8172-4447-b3a1-043831427e54"
      },
      "execution_count": null,
      "outputs": [
        {
          "output_type": "execute_result",
          "data": {
            "text/plain": [
              "(86.25, 83.15649867374005)"
            ]
          },
          "metadata": {},
          "execution_count": 22
        }
      ]
    },
    {
      "cell_type": "code",
      "source": [
        "# number of 100's\n",
        "sum(sdf[\"100's\"]),sum(ldf[\"100's\"])"
      ],
      "metadata": {
        "colab": {
          "base_uri": "https://localhost:8080/"
        },
        "id": "MKZ38jJyOF6T",
        "outputId": "0582a2c6-05c1-47a2-9bef-10742f1e7ce8"
      },
      "execution_count": null,
      "outputs": [
        {
          "output_type": "execute_result",
          "data": {
            "text/plain": [
              "(4.0, 2.0)"
            ]
          },
          "metadata": {},
          "execution_count": 23
        }
      ]
    },
    {
      "cell_type": "code",
      "source": [
        "# number of 50's\n",
        "sum(sdf[\"50's\"]),sum(ldf[\"50's\"])"
      ],
      "metadata": {
        "colab": {
          "base_uri": "https://localhost:8080/"
        },
        "id": "SaZvviYsOU9O",
        "outputId": "b1676894-04b5-4936-f8bb-cb92fcf5434e"
      },
      "execution_count": null,
      "outputs": [
        {
          "output_type": "execute_result",
          "data": {
            "text/plain": [
              "(12.0, 7.0)"
            ]
          },
          "metadata": {},
          "execution_count": 24
        }
      ]
    },
    {
      "cell_type": "code",
      "source": [
        "# team contribution\n",
        "# sachin's\n",
        "100*sum(sdf['Innings Runs Scored Num'])/sum(sachin_df[sachin_df.Country == 'India']['Innings Runs Scored Num'])"
      ],
      "metadata": {
        "colab": {
          "base_uri": "https://localhost:8080/"
        },
        "id": "84WDp5PWOk8U",
        "outputId": "06ec2177-6c62-4f68-c14e-3d1be9aa4a07"
      },
      "execution_count": null,
      "outputs": [
        {
          "output_type": "execute_result",
          "data": {
            "text/plain": [
              "15.97359170024865"
            ]
          },
          "metadata": {},
          "execution_count": 25
        }
      ]
    },
    {
      "cell_type": "code",
      "source": [
        "# lara's team contribution\n",
        "100*sum(ldf['Innings Runs Scored Num'])/sum(lara_df[lara_df.Country == 'West Indies']['Innings Runs Scored Num'])\n"
      ],
      "metadata": {
        "colab": {
          "base_uri": "https://localhost:8080/"
        },
        "id": "iDrEC8roP0Oc",
        "outputId": "efef2681-fc9e-4a56-8860-16da0f2dd0c9"
      },
      "execution_count": null,
      "outputs": [
        {
          "output_type": "execute_result",
          "data": {
            "text/plain": [
              "15.753768844221106"
            ]
          },
          "metadata": {},
          "execution_count": 26
        }
      ]
    },
    {
      "cell_type": "markdown",
      "source": [
        "# ***visulaisations for both***"
      ],
      "metadata": {
        "id": "dLq8j955QdTL"
      }
    },
    {
      "cell_type": "code",
      "source": [
        "sachin_df.groupby(['Innings Player'])['Innings Runs Scored Num'].sum().sort_values(ascending = False).head(10)"
      ],
      "metadata": {
        "colab": {
          "base_uri": "https://localhost:8080/"
        },
        "id": "c_ilq8NWQCie",
        "outputId": "bbaab9de-772a-4049-e196-18de1ffee611"
      },
      "execution_count": null,
      "outputs": [
        {
          "output_type": "execute_result",
          "data": {
            "text/plain": [
              "Innings Player\n",
              "Mohammad Yousuf    1909\n",
              "SR Tendulkar       1863\n",
              "AC Gilchrist       1795\n",
              "RT Ponting         1765\n",
              "CH Gayle           1679\n",
              "Yasir Hameed       1671\n",
              "SC Ganguly         1642\n",
              "ML Hayden          1619\n",
              "R Dravid           1552\n",
              "KC Sangakkara      1516\n",
              "Name: Innings Runs Scored Num, dtype: int64"
            ]
          },
          "metadata": {},
          "execution_count": 27
        }
      ]
    },
    {
      "cell_type": "code",
      "source": [
        "lara_df.groupby(['Innings Player'])['Innings Runs Scored Num'].sum().sort_values(ascending = False).head(10)"
      ],
      "metadata": {
        "colab": {
          "base_uri": "https://localhost:8080/"
        },
        "id": "C6MjWFUDQ9Bq",
        "outputId": "1acc1923-5184-47d6-afba-c92250a3d0b0"
      },
      "execution_count": null,
      "outputs": [
        {
          "output_type": "execute_result",
          "data": {
            "text/plain": [
              "Innings Player\n",
              "Mohammad Yousuf    1909\n",
              "SR Tendulkar       1863\n",
              "AC Gilchrist       1795\n",
              "RT Ponting         1765\n",
              "CH Gayle           1679\n",
              "Yasir Hameed       1671\n",
              "SC Ganguly         1642\n",
              "ML Hayden          1619\n",
              "R Dravid           1552\n",
              "KC Sangakkara      1516\n",
              "Name: Innings Runs Scored Num, dtype: int64"
            ]
          },
          "metadata": {},
          "execution_count": 28
        }
      ]
    },
    {
      "cell_type": "code",
      "source": [
        "sachin_df.groupby(['Innings Player'])['Innings Runs Scored Num'].sum().sort_values(ascending = False).head(10).plot(kind = 'barh')\n",
        "plt.title('Top ten run scorers')\n",
        "plt.show()"
      ],
      "metadata": {
        "colab": {
          "base_uri": "https://localhost:8080/",
          "height": 281
        },
        "id": "FnQlGLLHRNCm",
        "outputId": "594c44d0-fdef-409f-d57c-c1712b1f0ceb"
      },
      "execution_count": null,
      "outputs": [
        {
          "output_type": "display_data",
          "data": {
            "image/png": "[encoded data removed]",
            "text/plain": [
              "<Figure size 432x288 with 1 Axes>"
            ]
          },
          "metadata": {
            "needs_background": "light"
          }
        }
      ]
    },
    {
      "cell_type": "code",
      "source": [
        "lara_df.groupby(['Innings Player'])['Innings Runs Scored Num'].sum().sort_values(ascending = False).head(10).plot(kind = 'bar')\n",
        "plt.title('Top ten run scorers')\n",
        "plt.show()"
      ],
      "metadata": {
        "colab": {
          "base_uri": "https://localhost:8080/",
          "height": 380
        },
        "id": "Qj4HbK2nRmPi",
        "outputId": "504429a7-6b6d-4154-9d41-5bc4177d9d74"
      },
      "execution_count": null,
      "outputs": [
        {
          "output_type": "display_data",
          "data": {
            "image/png": "[encoded data removed]",
            "text/plain": [
              "<Figure size 432x288 with 1 Axes>"
            ]
          },
          "metadata": {
            "needs_background": "light"
          }
        }
      ]
    },
    {
      "cell_type": "code",
      "source": [
        "# runs patter year by year for both the players\n",
        "sdf.groupby(['year'])['Innings Runs Scored Num'].sum().sort_values(ascending = False).head(10).plot(kind = 'bar')\n",
        "plt.show()"
      ],
      "metadata": {
        "id": "W_Kyit-FRv1g",
        "colab": {
          "base_uri": "https://localhost:8080/",
          "height": 293
        },
        "outputId": "641ba5ff-825b-47da-ffbf-b11af9ee56eb"
      },
      "execution_count": null,
      "outputs": [
        {
          "output_type": "display_data",
          "data": {
            "image/png": "[encoded data removed]",
            "text/plain": [
              "<Figure size 432x288 with 1 Axes>"
            ]
          },
          "metadata": {
            "needs_background": "light"
          }
        }
      ]
    },
    {
      "cell_type": "code",
      "source": [
        "ldf.groupby(['year'])['Innings Runs Scored Num'].sum().sort_values(ascending = False).head(10).plot(kind = 'bar')\n",
        "plt.show()"
      ],
      "metadata": {
        "colab": {
          "base_uri": "https://localhost:8080/",
          "height": 296
        },
        "id": "Wp_ZsaL_Txk5",
        "outputId": "ffa94fbb-1125-42d7-994e-49f423b3a508"
      },
      "execution_count": null,
      "outputs": [
        {
          "output_type": "display_data",
          "data": {
            "image/png": "[encoded data removed]",
            "text/plain": [
              "<Figure size 432x288 with 1 Axes>"
            ]
          },
          "metadata": {
            "needs_background": "light"
          }
        }
      ]
    },
    {
      "cell_type": "markdown",
      "source": [
        "# ***normalisation***"
      ],
      "metadata": {
        "id": "ycKUWCTYVD7s"
      }
    },
    {
      "cell_type": "code",
      "source": [
        "# normalisation of RPI,,SR,,100 and 50"
      ],
      "metadata": {
        "id": "IpKBSUJRU7Ua"
      },
      "execution_count": null,
      "outputs": []
    },
    {
      "cell_type": "code",
      "source": [
        "# RPI\n",
        "sum(sdf['Innings Runs Scored Num'])/len(sdf)"
      ],
      "metadata": {
        "colab": {
          "base_uri": "https://localhost:8080/"
        },
        "id": "A2wYscCDVSok",
        "outputId": "dfe2441e-7572-4c93-9c5c-30d02ad7e0b8"
      },
      "execution_count": null,
      "outputs": [
        {
          "output_type": "execute_result",
          "data": {
            "text/plain": [
              "50.351351351351354"
            ]
          },
          "metadata": {},
          "execution_count": 34
        }
      ]
    },
    {
      "cell_type": "code",
      "source": [
        "# making a non sachin df to exclude his data out of mega df sachin_df\n",
        "non_sachin = sachin_df[sachin_df['Innings Player'] != 'SR Tendulkar']"
      ],
      "metadata": {
        "id": "KK7gIKDfVmBo"
      },
      "execution_count": null,
      "outputs": []
    },
    {
      "cell_type": "code",
      "source": [
        "sum(non_sachin['Innings Runs Scored Num'])/len(non_sachin)"
      ],
      "metadata": {
        "colab": {
          "base_uri": "https://localhost:8080/"
        },
        "id": "k0wYcpDrV5Kc",
        "outputId": "da22fe5f-248b-4be8-cba0-adf6262dd8be"
      },
      "execution_count": null,
      "outputs": [
        {
          "output_type": "execute_result",
          "data": {
            "text/plain": [
              "22.4404609475032"
            ]
          },
          "metadata": {},
          "execution_count": 36
        }
      ]
    },
    {
      "cell_type": "code",
      "source": [
        "# rpi normalisation\n",
        "(sum(sdf['Innings Runs Scored Num'])/len(sdf))/(sum(non_sachin['Innings Runs Scored Num'])/len(non_sachin))"
      ],
      "metadata": {
        "colab": {
          "base_uri": "https://localhost:8080/"
        },
        "id": "aLKFNCyKWLgY",
        "outputId": "26d00446-d518-4a3e-b136-fc731c8a6e27"
      },
      "execution_count": null,
      "outputs": [
        {
          "output_type": "execute_result",
          "data": {
            "text/plain": [
              "2.2437752713343264"
            ]
          },
          "metadata": {},
          "execution_count": 37
        }
      ]
    },
    {
      "cell_type": "code",
      "source": [
        "# non lara\n",
        "non_lara = lara_df[lara_df['Innings Player'] != 'BC Lara']"
      ],
      "metadata": {
        "id": "b3TxDzfmW5de"
      },
      "execution_count": null,
      "outputs": []
    },
    {
      "cell_type": "code",
      "source": [
        "sum(non_lara['Innings Runs Scored Num'])/len(non_lara)"
      ],
      "metadata": {
        "colab": {
          "base_uri": "https://localhost:8080/"
        },
        "id": "EeWo8XYeYG14",
        "outputId": "b59d2491-e452-4322-8704-952b2fa6c024"
      },
      "execution_count": null,
      "outputs": [
        {
          "output_type": "execute_result",
          "data": {
            "text/plain": [
              "22.59641485275288"
            ]
          },
          "metadata": {},
          "execution_count": 39
        }
      ]
    },
    {
      "cell_type": "code",
      "source": [
        "(sum(ldf['Innings Runs Scored Num'])/len(ldf))/(sum(non_lara['Innings Runs Scored Num'])/len(non_lara))"
      ],
      "metadata": {
        "colab": {
          "base_uri": "https://localhost:8080/"
        },
        "id": "9C62mcIFYQgl",
        "outputId": "53dc67e5-f9df-488e-ea69-c0e634322d1c"
      },
      "execution_count": null,
      "outputs": [
        {
          "output_type": "execute_result",
          "data": {
            "text/plain": [
              "1.4998791672371385"
            ]
          },
          "metadata": {},
          "execution_count": 40
        }
      ]
    },
    {
      "cell_type": "code",
      "source": [
        "# normalisation for strike rates\n",
        "# sachin's\n",
        "100*sum(sdf['Innings Runs Scored Num'])/sum(sdf['Innings Balls Faced'])"
      ],
      "metadata": {
        "id": "UVW_U0d0YYv6",
        "colab": {
          "base_uri": "https://localhost:8080/"
        },
        "outputId": "64de2e1d-cfa3-47f5-bf3b-a36b8e4c0cbd"
      },
      "execution_count": null,
      "outputs": [
        {
          "output_type": "execute_result",
          "data": {
            "text/plain": [
              "86.25"
            ]
          },
          "metadata": {},
          "execution_count": 41
        }
      ]
    },
    {
      "cell_type": "code",
      "source": [
        "# non sachin using sachin_df\n",
        "non_sachin = sachin_df[sachin_df['Innings Player'] != 'SR Tendulkar']"
      ],
      "metadata": {
        "id": "DiLBFYXZWAjB"
      },
      "execution_count": null,
      "outputs": []
    },
    {
      "cell_type": "code",
      "source": [
        "100*sum(non_sachin['Innings Runs Scored Num'])/sum(non_sachin['Innings Balls Faced'])"
      ],
      "metadata": {
        "colab": {
          "base_uri": "https://localhost:8080/"
        },
        "id": "j9_PWVRBWbHy",
        "outputId": "fbb60488-1702-460d-fb98-992efafefc76"
      },
      "execution_count": null,
      "outputs": [
        {
          "output_type": "execute_result",
          "data": {
            "text/plain": [
              "73.41655495978553"
            ]
          },
          "metadata": {},
          "execution_count": 44
        }
      ]
    },
    {
      "cell_type": "code",
      "source": [
        "100*(sum(sdf['Innings Runs Scored Num'])/sum(sdf['Innings Balls Faced']))/(sum(non_sachin['Innings Runs Scored Num'])/sum(non_sachin['Innings Balls Faced']))"
      ],
      "metadata": {
        "colab": {
          "base_uri": "https://localhost:8080/"
        },
        "id": "LpEeCUlxW0bu",
        "outputId": "344c3ba6-f43d-4304-f896-412d9131df82"
      },
      "execution_count": null,
      "outputs": [
        {
          "output_type": "execute_result",
          "data": {
            "text/plain": [
              "117.48031496062993"
            ]
          },
          "metadata": {},
          "execution_count": 56
        }
      ]
    },
    {
      "cell_type": "code",
      "source": [
        "# lara's\n",
        "100*sum(ldf['Innings Runs Scored Num'])/sum(ldf['Innings Balls Faced'])"
      ],
      "metadata": {
        "colab": {
          "base_uri": "https://localhost:8080/"
        },
        "id": "1r3T_xsLZPYR",
        "outputId": "6031377d-ab09-4c1c-ac98-c1d95234598f"
      },
      "execution_count": null,
      "outputs": [
        {
          "output_type": "execute_result",
          "data": {
            "text/plain": [
              "83.15649867374005"
            ]
          },
          "metadata": {},
          "execution_count": 52
        }
      ]
    },
    {
      "cell_type": "code",
      "source": [
        "non_lara = lara_df[lara_df['Innings Player'] != 'BC Lara']"
      ],
      "metadata": {
        "id": "aHc_9VqHZ5XF"
      },
      "execution_count": null,
      "outputs": []
    },
    {
      "cell_type": "code",
      "source": [
        "100*sum(non_lara['Innings Runs Scored Num'])/sum(non_lara['Innings Balls Faced'])"
      ],
      "metadata": {
        "colab": {
          "base_uri": "https://localhost:8080/"
        },
        "id": "WPhpVLdEaRzn",
        "outputId": "aefc6a4e-640d-468e-c4e9-af60646ed54a"
      },
      "execution_count": null,
      "outputs": [
        {
          "output_type": "execute_result",
          "data": {
            "text/plain": [
              "73.52514748525148"
            ]
          },
          "metadata": {},
          "execution_count": 51
        }
      ]
    },
    {
      "cell_type": "code",
      "source": [
        "100*(sum(ldf['Innings Runs Scored Num'])/sum(ldf['Innings Balls Faced']))/(sum(non_lara['Innings Runs Scored Num'])/sum(non_lara['Innings Balls Faced']))"
      ],
      "metadata": {
        "colab": {
          "base_uri": "https://localhost:8080/"
        },
        "id": "yrgj8RJXacwG",
        "outputId": "f5054f6a-94f3-4ca4-ffa8-3eec9ad24174"
      },
      "execution_count": null,
      "outputs": [
        {
          "output_type": "execute_result",
          "data": {
            "text/plain": [
              "113.09939730541929"
            ]
          },
          "metadata": {},
          "execution_count": 55
        }
      ]
    },
    {
      "cell_type": "code",
      "source": [
        "# normalisation of 100's\n",
        "# sachin's\n",
        "len(sdf)/sum(sdf[\"100's\"])"
      ],
      "metadata": {
        "colab": {
          "base_uri": "https://localhost:8080/"
        },
        "id": "CgBjGAURaxw_",
        "outputId": "8155f143-3c11-4d16-8133-cded19caed12"
      },
      "execution_count": null,
      "outputs": [
        {
          "output_type": "execute_result",
          "data": {
            "text/plain": [
              "9.25"
            ]
          },
          "metadata": {},
          "execution_count": 57
        }
      ]
    },
    {
      "cell_type": "code",
      "source": [
        "# non sachin's\n",
        "(len(sdf)/sum(sdf[\"100's\"]))/(len(non_sachin)/sum(non_sachin[\"100's\"]))"
      ],
      "metadata": {
        "colab": {
          "base_uri": "https://localhost:8080/"
        },
        "id": "RPYcz6GacN6G",
        "outputId": "9047dba4-e01b-4250-ac11-a34155bfb7fd"
      },
      "execution_count": null,
      "outputs": [
        {
          "output_type": "execute_result",
          "data": {
            "text/plain": [
              "0.20134443021766968"
            ]
          },
          "metadata": {},
          "execution_count": 59
        }
      ]
    },
    {
      "cell_type": "code",
      "source": [
        "# so sachin was taking 0.20 matches less than his peers in that time frame to score a ton"
      ],
      "metadata": {
        "id": "m0tFdg95co5U"
      },
      "execution_count": null,
      "outputs": []
    },
    {
      "cell_type": "code",
      "source": [
        "# lara's\n",
        "(len(ldf)/sum(ldf[\"100's\"]))/(len(non_lara)/sum(non_lara[\"100's\"]))"
      ],
      "metadata": {
        "colab": {
          "base_uri": "https://localhost:8080/"
        },
        "id": "FQwpi9GvdEqW",
        "outputId": "f725a344-6297-41c5-f14a-8eb6b3070f4d"
      },
      "execution_count": null,
      "outputs": [
        {
          "output_type": "execute_result",
          "data": {
            "text/plain": [
              "0.4121638924455826"
            ]
          },
          "metadata": {},
          "execution_count": 62
        }
      ]
    },
    {
      "cell_type": "code",
      "source": [
        "# lara took 0.412 less matches per innings than his peers to score a ton"
      ],
      "metadata": {
        "id": "yQ5zceCpdcvb"
      },
      "execution_count": null,
      "outputs": []
    },
    {
      "cell_type": "code",
      "source": [
        "# 50's normalisation\n",
        "# sachin's\n",
        "(len(sdf)/sum(sdf[\"50's\"]))/(len(non_sachin)/sum(non_sachin[\"50's\"]))"
      ],
      "metadata": {
        "colab": {
          "base_uri": "https://localhost:8080/"
        },
        "id": "y5f60az7dwWp",
        "outputId": "8aaf9441-a152-4f42-9d61-35ce1d9839ae"
      },
      "execution_count": null,
      "outputs": [
        {
          "output_type": "execute_result",
          "data": {
            "text/plain": [
              "0.3663679043960734"
            ]
          },
          "metadata": {},
          "execution_count": 64
        }
      ]
    },
    {
      "cell_type": "code",
      "source": [
        "# lara's\n",
        "(len(ldf)/sum(ldf[\"50's\"]))/(len(non_lara)/sum(non_lara[\"50's\"]))"
      ],
      "metadata": {
        "colab": {
          "base_uri": "https://localhost:8080/"
        },
        "id": "nTUy5rhOeHut",
        "outputId": "214a4a2d-2d74-4aa4-89ce-c6c187477040"
      },
      "execution_count": null,
      "outputs": [
        {
          "output_type": "execute_result",
          "data": {
            "text/plain": [
              "0.6348271446862996"
            ]
          },
          "metadata": {},
          "execution_count": 65
        }
      ]
    },
    {
      "cell_type": "code",
      "source": [
        "# team contribution normalisation\n",
        "# sachin's\n",
        "100*sum(sdf['Innings Runs Scored Num'])/sum(sachin_df[sachin_df.Country == 'India']['Innings Runs Scored Num'])"
      ],
      "metadata": {
        "colab": {
          "base_uri": "https://localhost:8080/"
        },
        "id": "NHO9nW_leUDv",
        "outputId": "3b760d09-3c6f-4231-ab69-c29cf0546a0e"
      },
      "execution_count": null,
      "outputs": [
        {
          "output_type": "execute_result",
          "data": {
            "text/plain": [
              "15.97359170024865"
            ]
          },
          "metadata": {},
          "execution_count": 67
        }
      ]
    },
    {
      "cell_type": "code",
      "source": [
        "# lara's\n",
        "100*sum(ldf['Innings Runs Scored Num'])/sum(lara_df[lara_df.Country == 'West Indies']['Innings Runs Scored Num'])"
      ],
      "metadata": {
        "colab": {
          "base_uri": "https://localhost:8080/"
        },
        "id": "r8M7Q1MYfEsE",
        "outputId": "76b0022f-96e5-469c-876c-0f00d31e70f6"
      },
      "execution_count": null,
      "outputs": [
        {
          "output_type": "execute_result",
          "data": {
            "text/plain": [
              "15.753768844221106"
            ]
          },
          "metadata": {},
          "execution_count": 68
        }
      ]
    },
    {
      "cell_type": "code",
      "source": [],
      "metadata": {
        "id": "p3XSUt3IfyI7"
      },
      "execution_count": null,
      "outputs": []
    }
  ]
}